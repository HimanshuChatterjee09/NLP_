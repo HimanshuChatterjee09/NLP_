{
 "cells": [
  {
   "cell_type": "code",
   "execution_count": 1,
   "id": "7901a6d2",
   "metadata": {},
   "outputs": [
    {
     "name": "stderr",
     "output_type": "stream",
     "text": [
      "[nltk_data] Downloading package wordnet to\n",
      "[nltk_data]     /Users/himanshuchatterjee/nltk_data...\n",
      "[nltk_data]   Package wordnet is already up-to-date!\n"
     ]
    },
    {
     "data": {
      "text/plain": [
       "True"
      ]
     },
     "execution_count": 1,
     "metadata": {},
     "output_type": "execute_result"
    }
   ],
   "source": [
    "import nltk\n",
    "from nltk.stem import WordNetLemmatizer\n",
    "nltk.download('wordnet')"
   ]
  },
  {
   "cell_type": "code",
   "execution_count": 2,
   "id": "90ab0f3a",
   "metadata": {},
   "outputs": [],
   "source": [
    "\n",
    "wml = WordNetLemmatizer()\n"
   ]
  },
  {
   "cell_type": "code",
   "execution_count": 3,
   "id": "391f2862",
   "metadata": {},
   "outputs": [
    {
     "name": "stdout",
     "output_type": "stream",
     "text": [
      "Original words- ['Insert', 'Inserting', 'Insertion', 'Inserted', 'Inserts', 'generous', 'generate', 'generously', 'generation', 'eating', 'eats', 'eaten', 'puts', 'putting']\n"
     ]
    }
   ],
   "source": [
    "words=['Insert','Inserting','Insertion','Inserted','Inserts','generous','generate','generously','generation',\n",
    "         'eating','eats','eaten','puts','putting']\n",
    "print('Original words-', words)\n",
    "lemma_words=[]\n"
   ]
  },
  {
   "cell_type": "code",
   "execution_count": 4,
   "id": "cec469bc",
   "metadata": {},
   "outputs": [
    {
     "name": "stdout",
     "output_type": "stream",
     "text": [
      "Insert ---> Insert\n",
      "Inserting ---> Inserting\n",
      "Insertion ---> Insertion\n",
      "Inserted ---> Inserted\n",
      "Inserts ---> Inserts\n",
      "generous ---> generous\n",
      "generate ---> generate\n",
      "generously ---> generously\n",
      "generation ---> generation\n",
      "eating ---> eating\n",
      "eats ---> eats\n",
      "eaten ---> eaten\n",
      "puts ---> put\n",
      "putting ---> putting\n"
     ]
    }
   ],
   "source": [
    "for word in words:\n",
    "    tokens = wml.lemmatize(word)\n",
    "    print(word,\"--->\",wml.lemmatize(word))"
   ]
  },
  {
   "cell_type": "code",
   "execution_count": null,
   "id": "4c4b2b98",
   "metadata": {},
   "outputs": [],
   "source": []
  },
  {
   "cell_type": "code",
   "execution_count": null,
   "id": "155e4602",
   "metadata": {},
   "outputs": [],
   "source": []
  }
 ],
 "metadata": {
  "kernelspec": {
   "display_name": "Python 3 (ipykernel)",
   "language": "python",
   "name": "python3"
  },
  "language_info": {
   "codemirror_mode": {
    "name": "ipython",
    "version": 3
   },
   "file_extension": ".py",
   "mimetype": "text/x-python",
   "name": "python",
   "nbconvert_exporter": "python",
   "pygments_lexer": "ipython3",
   "version": "3.9.7"
  }
 },
 "nbformat": 4,
 "nbformat_minor": 5
}
