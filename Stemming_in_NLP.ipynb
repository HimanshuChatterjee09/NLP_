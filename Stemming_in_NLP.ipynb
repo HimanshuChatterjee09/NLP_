{
 "cells": [
  {
   "cell_type": "markdown",
   "id": "8440156f",
   "metadata": {},
   "source": [
    "# Example of PorterStemmer()"
   ]
  },
  {
   "cell_type": "code",
   "execution_count": 1,
   "id": "d7d5c423",
   "metadata": {},
   "outputs": [],
   "source": [
    "import nltk"
   ]
  },
  {
   "cell_type": "code",
   "execution_count": 2,
   "id": "a15efe80",
   "metadata": {},
   "outputs": [
    {
     "name": "stdout",
     "output_type": "stream",
     "text": [
      "Insert ---> insert\n",
      "Inserting ---> insert\n",
      "Insertion ---> insert\n",
      "Inserted ---> insert\n",
      "Inserts ---> insert\n",
      "generous ---> gener\n",
      "generate ---> gener\n",
      "generously ---> gener\n",
      "generation ---> gener\n",
      "eating ---> eat\n",
      "eats ---> eat\n",
      "eaten ---> eaten\n",
      "puts ---> put\n",
      "putting ---> put\n"
     ]
    }
   ],
   "source": [
    "from nltk.stem import PorterStemmer\n",
    "porter = PorterStemmer()\n",
    "words = ['Insert','Inserting','Insertion','Inserted','Inserts','generous','generate',\n",
    "         'generously','generation','eating','eats','eaten','puts','putting']\n",
    "for word in words:\n",
    "    print(word,\"--->\",porter.stem(word))"
   ]
  },
  {
   "cell_type": "markdown",
   "id": "24a470c7",
   "metadata": {},
   "source": [
    "# Example of SnowballStemmer()"
   ]
  },
  {
   "cell_type": "code",
   "execution_count": 3,
   "id": "6b01c374",
   "metadata": {},
   "outputs": [
    {
     "name": "stdout",
     "output_type": "stream",
     "text": [
      "Insert ---> insert\n",
      "Inserting ---> insert\n",
      "Insertion ---> insert\n",
      "Inserted ---> insert\n",
      "Inserts ---> insert\n",
      "generous ---> generous\n",
      "generate ---> generat\n",
      "generously ---> generous\n",
      "generation ---> generat\n",
      "eating ---> eat\n",
      "eats ---> eat\n",
      "eaten ---> eaten\n",
      "puts ---> put\n",
      "putting ---> put\n"
     ]
    }
   ],
   "source": [
    "from nltk.stem import SnowballStemmer\n",
    "snowball = SnowballStemmer(language='english')\n",
    "words = ['Insert','Inserting','Insertion','Inserted','Inserts','generous','generate','generously','generation',\n",
    "         'eating','eats','eaten','puts','putting']\n",
    "for word in words:\n",
    "    print(word,\"--->\",snowball.stem(word))"
   ]
  },
  {
   "cell_type": "markdown",
   "id": "c5c3c599",
   "metadata": {},
   "source": [
    "# Example of LancasterStemmer()"
   ]
  },
  {
   "cell_type": "code",
   "execution_count": 4,
   "id": "adc1683c",
   "metadata": {},
   "outputs": [
    {
     "name": "stdout",
     "output_type": "stream",
     "text": [
      "Insert ---> insert\n",
      "Inserting ---> insert\n",
      "Insertion ---> insert\n",
      "Inserted ---> insert\n",
      "Inserts ---> insert\n",
      "generous ---> gen\n",
      "generate ---> gen\n",
      "generously ---> gen\n",
      "generation ---> gen\n",
      "eating ---> eat\n",
      "eats ---> eat\n",
      "eaten ---> eat\n",
      "puts ---> put\n",
      "putting ---> put\n"
     ]
    }
   ],
   "source": [
    "from nltk.stem import LancasterStemmer\n",
    "lancaster = LancasterStemmer()\n",
    "words = ['Insert','Inserting','Insertion','Inserted','Inserts','generous','generate','generously','generation',\n",
    "         'eating','eats','eaten','puts','putting']\n",
    "for word in words:\n",
    "    print(word,\"--->\",lancaster.stem(word))"
   ]
  },
  {
   "cell_type": "markdown",
   "id": "3b2a848c",
   "metadata": {},
   "source": [
    "# Comparison"
   ]
  },
  {
   "cell_type": "code",
   "execution_count": 7,
   "id": "f296e064",
   "metadata": {},
   "outputs": [
    {
     "name": "stdout",
     "output_type": "stream",
     "text": [
      "Word                Porter Stemmer      Snowball Stemmer    Lancaster Stemmer             Regexp Stemmer                          \n",
      "Insert              insert              insert              insert                        Insert                                  \n",
      "Inserting           insert              insert              insert                        Insert                                  \n",
      "Insertion           insert              insert              insert                        Insert                                  \n",
      "Inserted            insert              insert              insert                        Inserted                                \n",
      "Inserts             insert              insert              insert                        Insert                                  \n",
      "generous            gener               generous            gen                           generou                                 \n",
      "generate            gener               generat             gen                           generate                                \n",
      "generously          gener               generous            gen                           generously                              \n",
      "generation          gener               generat             gen                           generat                                 \n",
      "eating              eat                 eat                 eat                           eat                                     \n",
      "eats                eat                 eat                 eat                           eat                                     \n",
      "eaten               eaten               eaten               eat                           eaten                                   \n",
      "puts                put                 put                 put                           put                                     \n",
      "putting             put                 put                 put                           putt                                    \n"
     ]
    }
   ],
   "source": [
    "from nltk.stem import PorterStemmer, SnowballStemmer, LancasterStemmer, RegexpStemmer\n",
    "porter = PorterStemmer()\n",
    "lancaster = LancasterStemmer()\n",
    "snowball = SnowballStemmer(language='english')\n",
    "regexp = RegexpStemmer('ing$|s$|able$|ion$', min=4)\n",
    "word_list = ['Insert','Inserting','Insertion','Inserted','Inserts','generous','generate','generously','generation',\n",
    "         'eating','eats','eaten','puts','putting']\n",
    "print(\"{0:20}{1:20}{2:20}{3:30}{4:40}\".format(\"Word\",\"Porter Stemmer\",\"Snowball Stemmer\",\"Lancaster Stemmer\",'Regexp Stemmer'))\n",
    "for word in word_list:\n",
    "    print(\"{0:20}{1:20}{2:20}{3:30}{4:40}\".format(word,porter.stem(word),snowball.stem(word),lancaster.stem(word),regexp.stem(word)))\n"
   ]
  },
  {
   "cell_type": "code",
   "execution_count": null,
   "id": "11ab80e6",
   "metadata": {},
   "outputs": [],
   "source": []
  }
 ],
 "metadata": {
  "kernelspec": {
   "display_name": "Python 3 (ipykernel)",
   "language": "python",
   "name": "python3"
  },
  "language_info": {
   "codemirror_mode": {
    "name": "ipython",
    "version": 3
   },
   "file_extension": ".py",
   "mimetype": "text/x-python",
   "name": "python",
   "nbconvert_exporter": "python",
   "pygments_lexer": "ipython3",
   "version": "3.9.7"
  }
 },
 "nbformat": 4,
 "nbformat_minor": 5
}
